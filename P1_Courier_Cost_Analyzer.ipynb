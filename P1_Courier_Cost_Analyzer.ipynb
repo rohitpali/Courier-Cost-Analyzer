{
  "nbformat": 4,
  "nbformat_minor": 0,
  "metadata": {
    "colab": {
      "provenance": []
    },
    "kernelspec": {
      "name": "python3",
      "display_name": "Python 3"
    },
    "language_info": {
      "name": "python"
    }
  },
  "cells": [
    {
      "cell_type": "markdown",
      "source": [
        "**1. Import Data**"
      ],
      "metadata": {
        "id": "0sAJz3dUnEcS"
      }
    },
    {
      "cell_type": "code",
      "execution_count": 1,
      "metadata": {
        "colab": {
          "base_uri": "https://localhost:8080/",
          "height": 393
        },
        "id": "I-U6DldLk38z",
        "outputId": "6c533e93-997b-4a80-b767-8bacff7a1e81"
      },
      "outputs": [
        {
          "output_type": "display_data",
          "data": {
            "text/plain": [
              "<IPython.core.display.HTML object>"
            ],
            "text/html": [
              "\n",
              "     <input type=\"file\" id=\"files-1a4add37-10ff-444d-8bbf-d337ce7f3b01\" name=\"files[]\" multiple disabled\n",
              "        style=\"border:none\" />\n",
              "     <output id=\"result-1a4add37-10ff-444d-8bbf-d337ce7f3b01\">\n",
              "      Upload widget is only available when the cell has been executed in the\n",
              "      current browser session. Please rerun this cell to enable.\n",
              "      </output>\n",
              "      <script>// Copyright 2017 Google LLC\n",
              "//\n",
              "// Licensed under the Apache License, Version 2.0 (the \"License\");\n",
              "// you may not use this file except in compliance with the License.\n",
              "// You may obtain a copy of the License at\n",
              "//\n",
              "//      http://www.apache.org/licenses/LICENSE-2.0\n",
              "//\n",
              "// Unless required by applicable law or agreed to in writing, software\n",
              "// distributed under the License is distributed on an \"AS IS\" BASIS,\n",
              "// WITHOUT WARRANTIES OR CONDITIONS OF ANY KIND, either express or implied.\n",
              "// See the License for the specific language governing permissions and\n",
              "// limitations under the License.\n",
              "\n",
              "/**\n",
              " * @fileoverview Helpers for google.colab Python module.\n",
              " */\n",
              "(function(scope) {\n",
              "function span(text, styleAttributes = {}) {\n",
              "  const element = document.createElement('span');\n",
              "  element.textContent = text;\n",
              "  for (const key of Object.keys(styleAttributes)) {\n",
              "    element.style[key] = styleAttributes[key];\n",
              "  }\n",
              "  return element;\n",
              "}\n",
              "\n",
              "// Max number of bytes which will be uploaded at a time.\n",
              "const MAX_PAYLOAD_SIZE = 100 * 1024;\n",
              "\n",
              "function _uploadFiles(inputId, outputId) {\n",
              "  const steps = uploadFilesStep(inputId, outputId);\n",
              "  const outputElement = document.getElementById(outputId);\n",
              "  // Cache steps on the outputElement to make it available for the next call\n",
              "  // to uploadFilesContinue from Python.\n",
              "  outputElement.steps = steps;\n",
              "\n",
              "  return _uploadFilesContinue(outputId);\n",
              "}\n",
              "\n",
              "// This is roughly an async generator (not supported in the browser yet),\n",
              "// where there are multiple asynchronous steps and the Python side is going\n",
              "// to poll for completion of each step.\n",
              "// This uses a Promise to block the python side on completion of each step,\n",
              "// then passes the result of the previous step as the input to the next step.\n",
              "function _uploadFilesContinue(outputId) {\n",
              "  const outputElement = document.getElementById(outputId);\n",
              "  const steps = outputElement.steps;\n",
              "\n",
              "  const next = steps.next(outputElement.lastPromiseValue);\n",
              "  return Promise.resolve(next.value.promise).then((value) => {\n",
              "    // Cache the last promise value to make it available to the next\n",
              "    // step of the generator.\n",
              "    outputElement.lastPromiseValue = value;\n",
              "    return next.value.response;\n",
              "  });\n",
              "}\n",
              "\n",
              "/**\n",
              " * Generator function which is called between each async step of the upload\n",
              " * process.\n",
              " * @param {string} inputId Element ID of the input file picker element.\n",
              " * @param {string} outputId Element ID of the output display.\n",
              " * @return {!Iterable<!Object>} Iterable of next steps.\n",
              " */\n",
              "function* uploadFilesStep(inputId, outputId) {\n",
              "  const inputElement = document.getElementById(inputId);\n",
              "  inputElement.disabled = false;\n",
              "\n",
              "  const outputElement = document.getElementById(outputId);\n",
              "  outputElement.innerHTML = '';\n",
              "\n",
              "  const pickedPromise = new Promise((resolve) => {\n",
              "    inputElement.addEventListener('change', (e) => {\n",
              "      resolve(e.target.files);\n",
              "    });\n",
              "  });\n",
              "\n",
              "  const cancel = document.createElement('button');\n",
              "  inputElement.parentElement.appendChild(cancel);\n",
              "  cancel.textContent = 'Cancel upload';\n",
              "  const cancelPromise = new Promise((resolve) => {\n",
              "    cancel.onclick = () => {\n",
              "      resolve(null);\n",
              "    };\n",
              "  });\n",
              "\n",
              "  // Wait for the user to pick the files.\n",
              "  const files = yield {\n",
              "    promise: Promise.race([pickedPromise, cancelPromise]),\n",
              "    response: {\n",
              "      action: 'starting',\n",
              "    }\n",
              "  };\n",
              "\n",
              "  cancel.remove();\n",
              "\n",
              "  // Disable the input element since further picks are not allowed.\n",
              "  inputElement.disabled = true;\n",
              "\n",
              "  if (!files) {\n",
              "    return {\n",
              "      response: {\n",
              "        action: 'complete',\n",
              "      }\n",
              "    };\n",
              "  }\n",
              "\n",
              "  for (const file of files) {\n",
              "    const li = document.createElement('li');\n",
              "    li.append(span(file.name, {fontWeight: 'bold'}));\n",
              "    li.append(span(\n",
              "        `(${file.type || 'n/a'}) - ${file.size} bytes, ` +\n",
              "        `last modified: ${\n",
              "            file.lastModifiedDate ? file.lastModifiedDate.toLocaleDateString() :\n",
              "                                    'n/a'} - `));\n",
              "    const percent = span('0% done');\n",
              "    li.appendChild(percent);\n",
              "\n",
              "    outputElement.appendChild(li);\n",
              "\n",
              "    const fileDataPromise = new Promise((resolve) => {\n",
              "      const reader = new FileReader();\n",
              "      reader.onload = (e) => {\n",
              "        resolve(e.target.result);\n",
              "      };\n",
              "      reader.readAsArrayBuffer(file);\n",
              "    });\n",
              "    // Wait for the data to be ready.\n",
              "    let fileData = yield {\n",
              "      promise: fileDataPromise,\n",
              "      response: {\n",
              "        action: 'continue',\n",
              "      }\n",
              "    };\n",
              "\n",
              "    // Use a chunked sending to avoid message size limits. See b/62115660.\n",
              "    let position = 0;\n",
              "    do {\n",
              "      const length = Math.min(fileData.byteLength - position, MAX_PAYLOAD_SIZE);\n",
              "      const chunk = new Uint8Array(fileData, position, length);\n",
              "      position += length;\n",
              "\n",
              "      const base64 = btoa(String.fromCharCode.apply(null, chunk));\n",
              "      yield {\n",
              "        response: {\n",
              "          action: 'append',\n",
              "          file: file.name,\n",
              "          data: base64,\n",
              "        },\n",
              "      };\n",
              "\n",
              "      let percentDone = fileData.byteLength === 0 ?\n",
              "          100 :\n",
              "          Math.round((position / fileData.byteLength) * 100);\n",
              "      percent.textContent = `${percentDone}% done`;\n",
              "\n",
              "    } while (position < fileData.byteLength);\n",
              "  }\n",
              "\n",
              "  // All done.\n",
              "  yield {\n",
              "    response: {\n",
              "      action: 'complete',\n",
              "    }\n",
              "  };\n",
              "}\n",
              "\n",
              "scope.google = scope.google || {};\n",
              "scope.google.colab = scope.google.colab || {};\n",
              "scope.google.colab._files = {\n",
              "  _uploadFiles,\n",
              "  _uploadFilesContinue,\n",
              "};\n",
              "})(self);\n",
              "</script> "
            ]
          },
          "metadata": {}
        },
        {
          "output_type": "stream",
          "name": "stdout",
          "text": [
            "Saving Company X - Order Report.xlsx to Company X - Order Report.xlsx\n",
            "Saving Company X - Pincode Zones.xlsx to Company X - Pincode Zones.xlsx\n",
            "Saving Company X - SKU Master.xlsx to Company X - SKU Master.xlsx\n",
            "Saving Courier Company - Invoice.xlsx to Courier Company - Invoice.xlsx\n",
            "Saving Courier Company - Rates.xlsx to Courier Company - Rates.xlsx\n",
            "✅ Company X - Order Report.xlsx loaded successfully\n",
            "✅ Company X - Pincode Zones.xlsx loaded successfully\n",
            "✅ Company X - SKU Master.xlsx loaded successfully\n",
            "✅ Courier Company - Invoice.xlsx loaded successfully\n",
            "✅ Courier Company - Rates.xlsx loaded successfully\n"
          ]
        }
      ],
      "source": [
        "from google.colab import files\n",
        "import pandas as pd\n",
        "\n",
        "# File upload\n",
        "uploaded = files.upload()\n",
        "\n",
        "# Load into dictionary\n",
        "dataframes = {}\n",
        "for filename in uploaded.keys():\n",
        "    try:\n",
        "        if filename.endswith(\".csv\"):\n",
        "            df = pd.read_csv(filename)\n",
        "        elif filename.endswith((\".xls\", \".xlsx\")):\n",
        "            df = pd.read_excel(filename)\n",
        "        else:\n",
        "            print(f\"⚠️ Unsupported file format: {filename}\")\n",
        "            continue\n",
        "        dataframes[filename.lower()] = df\n",
        "        print(f\"✅ {filename} loaded successfully\")\n",
        "    except Exception as e:\n",
        "        print(f\"❌ Error loading {filename}: {str(e)}\")"
      ]
    },
    {
      "cell_type": "markdown",
      "source": [
        "**2. Data Understanding & Cleaning**"
      ],
      "metadata": {
        "id": "u9sLuDrwnML3"
      }
    },
    {
      "cell_type": "code",
      "source": [
        "# Show first 5 rows\n",
        "for filename, df in dataframes.items():\n",
        "    print(f\"\\n Cleaning {filename} \")\n",
        "    print(\"First 5 rows:\")\n",
        "    print(df.head())"
      ],
      "metadata": {
        "colab": {
          "base_uri": "https://localhost:8080/"
        },
        "id": "oS5FAKDknUZv",
        "outputId": "aab749ed-ac9d-4ad4-a86a-3a089d96e270"
      },
      "execution_count": 2,
      "outputs": [
        {
          "output_type": "stream",
          "name": "stdout",
          "text": [
            "\n",
            " Cleaning company x - order report.xlsx \n",
            "First 5 rows:\n",
            "   ExternOrderNo            SKU  Order Qty\n",
            "0     2001827036  8904223818706        1.0\n",
            "1     2001827036  8904223819093        1.0\n",
            "2     2001827036  8904223819109        1.0\n",
            "3     2001827036  8904223818430        1.0\n",
            "4     2001827036  8904223819277        1.0\n",
            "\n",
            " Cleaning company x - pincode zones.xlsx \n",
            "First 5 rows:\n",
            "   Warehouse Pincode  Customer Pincode Zone\n",
            "0             121003            507101    d\n",
            "1             121003            486886    d\n",
            "2             121003            532484    d\n",
            "3             121003            143001    b\n",
            "4             121003            515591    d\n",
            "\n",
            " Cleaning company x - sku master.xlsx \n",
            "First 5 rows:\n",
            "             SKU  Weight (g)\n",
            "0  8904223815682         210\n",
            "1  8904223815859         165\n",
            "2  8904223815866         113\n",
            "3  8904223815873          65\n",
            "4  8904223816214         120\n",
            "\n",
            " Cleaning courier company - invoice.xlsx \n",
            "First 5 rows:\n",
            "        AWB Code    Order ID  Charged Weight  Warehouse Pincode  \\\n",
            "0  1091117222124  2001806232            1.30             121003   \n",
            "1  1091117222194  2001806273            1.00             121003   \n",
            "2  1091117222931  2001806408            2.50             121003   \n",
            "3  1091117223244  2001806458            1.00             121003   \n",
            "4  1091117229345  2001807012            0.15             121003   \n",
            "\n",
            "   Customer Pincode Zone Type of Shipment  Billing Amount (Rs.)  \n",
            "0            507101    d  Forward charges                 135.0  \n",
            "1            486886    d  Forward charges                  90.2  \n",
            "2            532484    d  Forward charges                 224.6  \n",
            "3            143001    b  Forward charges                  61.3  \n",
            "4            515591    d  Forward charges                  45.4  \n",
            "\n",
            " Cleaning courier company - rates.xlsx \n",
            "First 5 rows:\n",
            "  Zone  Weight Slabs  Forward Fixed Charge  \\\n",
            "0    A          0.50                  29.5   \n",
            "1    B          1.00                  33.0   \n",
            "2    C          1.25                  40.1   \n",
            "3    D          1.50                  45.4   \n",
            "4    E          2.00                  56.6   \n",
            "\n",
            "   Forward Additional Weight Slab Charge  RTO Fixed Charge  \\\n",
            "0                                   23.6              13.6   \n",
            "1                                   28.3              20.5   \n",
            "2                                   38.9              31.9   \n",
            "3                                   44.8              41.3   \n",
            "4                                   55.5              50.7   \n",
            "\n",
            "   RTO Additional Weight Slab Charge  \n",
            "0                               23.6  \n",
            "1                               28.3  \n",
            "2                               38.9  \n",
            "3                               44.8  \n",
            "4                               55.5  \n"
          ]
        }
      ]
    },
    {
      "cell_type": "code",
      "source": [
        "# Check missing values\n",
        "for filename, df in dataframes.items():\n",
        "    print(f\"\\n Missing Values in {filename}:\")\n",
        "    print(df.isnull().sum())"
      ],
      "metadata": {
        "colab": {
          "base_uri": "https://localhost:8080/"
        },
        "id": "12tJp9KPtF3A",
        "outputId": "5abdd497-b014-44f7-e3d0-8ffda68f4006"
      },
      "execution_count": 3,
      "outputs": [
        {
          "output_type": "stream",
          "name": "stdout",
          "text": [
            "\n",
            " Missing Values in company x - order report.xlsx:\n",
            "ExternOrderNo    0\n",
            "SKU              0\n",
            "Order Qty        0\n",
            "dtype: int64\n",
            "\n",
            " Missing Values in company x - pincode zones.xlsx:\n",
            "Warehouse Pincode    0\n",
            "Customer Pincode     0\n",
            "Zone                 0\n",
            "dtype: int64\n",
            "\n",
            " Missing Values in company x - sku master.xlsx:\n",
            "SKU           0\n",
            "Weight (g)    0\n",
            "dtype: int64\n",
            "\n",
            " Missing Values in courier company - invoice.xlsx:\n",
            "AWB Code                0\n",
            "Order ID                0\n",
            "Charged Weight          0\n",
            "Warehouse Pincode       0\n",
            "Customer Pincode        0\n",
            "Zone                    0\n",
            "Type of Shipment        0\n",
            "Billing Amount (Rs.)    0\n",
            "dtype: int64\n",
            "\n",
            " Missing Values in courier company - rates.xlsx:\n",
            "Zone                                     0\n",
            "Weight Slabs                             0\n",
            "Forward Fixed Charge                     0\n",
            "Forward Additional Weight Slab Charge    0\n",
            "RTO Fixed Charge                         0\n",
            "RTO Additional Weight Slab Charge        0\n",
            "dtype: int64\n"
          ]
        }
      ]
    },
    {
      "cell_type": "code",
      "source": [
        "# Cleaning Function\n",
        "def clean_df(df):\n",
        "    # Numeric columns\n",
        "    for col in df.select_dtypes(include=[\"float64\",\"int64\"]).columns:\n",
        "        df[col] = df[col].fillna(df[col].mean())\n",
        "\n",
        "    # Categorical columns\n",
        "    for col in df.select_dtypes(include=[\"object\"]).columns:\n",
        "        if not df[col].mode().empty:\n",
        "            df[col] = df[col].fillna(df[col].mode()[0])\n",
        "\n",
        "    # Try to convert numeric strings\n",
        "    for col in df.columns:\n",
        "        if df[col].dtype == \"object\":\n",
        "            try:\n",
        "                df[col] = pd.to_numeric(df[col])\n",
        "            except:\n",
        "                pass\n",
        "\n",
        "    # Drop duplicates\n",
        "    df.drop_duplicates(inplace=True)\n",
        "    return df"
      ],
      "metadata": {
        "id": "1KLfUn0mtwtY"
      },
      "execution_count": 8,
      "outputs": []
    },
    {
      "cell_type": "code",
      "source": [
        "# Apply cleaning\n",
        "for key in dataframes.keys():\n",
        "    dataframes[key] = clean_df(dataframes[key])"
      ],
      "metadata": {
        "id": "Z8LBZn9fthjS"
      },
      "execution_count": 9,
      "outputs": []
    },
    {
      "cell_type": "markdown",
      "source": [
        "**3. Merge Files**"
      ],
      "metadata": {
        "id": "xHUmhUA99n4Z"
      }
    },
    {
      "cell_type": "code",
      "source": [
        "print(\"Available keys in dataframes:\")\n",
        "print(dataframes.keys())\n"
      ],
      "metadata": {
        "colab": {
          "base_uri": "https://localhost:8080/"
        },
        "id": "WLs_x0Oox6Tt",
        "outputId": "f78e5a9b-3b19-4da8-a01b-5dba5f2da60b"
      },
      "execution_count": 24,
      "outputs": [
        {
          "output_type": "stream",
          "name": "stdout",
          "text": [
            "Available keys in dataframes:\n",
            "dict_keys(['company x - order report.xlsx', 'company x - pincode zones.xlsx', 'company x - sku master.xlsx', 'courier company - invoice.xlsx', 'courier company - rates.xlsx'])\n"
          ]
        }
      ]
    },
    {
      "cell_type": "code",
      "source": [
        "#1: Load your cleaned dataframes\n",
        "order_df   = standardize_columns(dataframes['company x - order report.xlsx'])\n",
        "sku_df     = standardize_columns(dataframes['company x - sku master.xlsx'])\n",
        "pincode_df = standardize_columns(dataframes['company x - pincode zones.xlsx'])\n",
        "invoice_df = standardize_columns(dataframes['courier company - invoice.xlsx'])\n",
        "rates_df   = standardize_columns(dataframes['courier company - rates.xlsx'])"
      ],
      "metadata": {
        "id": "m528yex-AvWA"
      },
      "execution_count": 28,
      "outputs": []
    },
    {
      "cell_type": "code",
      "source": [
        "#2: Merge Order Report with SKU Master (add weight per SKU)\n",
        "order_merged = order_df.merge(sku_df, on=\"sku\", how=\"left\")\n",
        "order_merged['total_sku_weight'] = (\n",
        "    order_merged['order_qty'] * order_merged['weight_g']\n",
        ")\n"
      ],
      "metadata": {
        "id": "cJQH-xnfBsGr"
      },
      "execution_count": 29,
      "outputs": []
    },
    {
      "cell_type": "code",
      "source": [
        "#3: Aggregate to Order Level\n",
        "order_weight = (\n",
        "    order_merged.groupby(\"externorderno\", as_index=False)['total_sku_weight'].sum()\n",
        ")\n",
        "order_weight.rename(\n",
        "    columns={'total_sku_weight': 'total_weight_g',\n",
        "             'externorderno': 'order_id'},\n",
        "    inplace=True\n",
        ")"
      ],
      "metadata": {
        "id": "gBSngy9RAzrC"
      },
      "execution_count": 30,
      "outputs": []
    },
    {
      "cell_type": "code",
      "source": [
        "#4: Add customer_pincode from Invoice\n",
        "order_with_pincode = order_weight.merge(\n",
        "    invoice_df[['order_id', 'customer_pincode']],\n",
        "    on=\"order_id\",\n",
        "    how=\"left\"\n",
        ")"
      ],
      "metadata": {
        "id": "bLS9v7Jh9rBh"
      },
      "execution_count": 31,
      "outputs": []
    },
    {
      "cell_type": "code",
      "source": [
        "#5: Map Zone using pincode file\n",
        "order_zone = order_with_pincode.merge(\n",
        "    pincode_df[['customer_pincode', 'zone']],\n",
        "    on=\"customer_pincode\",\n",
        "    how=\"left\"\n",
        ")"
      ],
      "metadata": {
        "id": "NasY_7Eh_VSi"
      },
      "execution_count": 32,
      "outputs": []
    },
    {
      "cell_type": "code",
      "source": [
        "#6: Merge with Courier Invoice (billed charges, courier data)\n",
        "final_master = order_zone.merge(\n",
        "    invoice_df, on=\"order_id\", how=\"left\", suffixes=(\"_x\", \"_courier\")\n",
        ")"
      ],
      "metadata": {
        "id": "5IcfAIWPCGjc"
      },
      "execution_count": 33,
      "outputs": []
    },
    {
      "cell_type": "code",
      "source": [
        "#7: Convert weight to KG & standardize date ---\n",
        "final_master['total_weight_kg'] = final_master['total_weight_g'] / 1000\n",
        "\n",
        "if 'date' in final_master.columns:\n",
        "    final_master['date'] = pd.to_datetime(\n",
        "        final_master['date'], errors='coerce'\n",
        "    ).dt.strftime('%Y-%m-%d')"
      ],
      "metadata": {
        "id": "mL8l3BmvCIZA"
      },
      "execution_count": 34,
      "outputs": []
    },
    {
      "cell_type": "code",
      "source": [
        "#Final check\n",
        "print(final_master.head(10))\n",
        "print(final_master.info())"
      ],
      "metadata": {
        "colab": {
          "base_uri": "https://localhost:8080/"
        },
        "id": "dCRFVqO1wuMF",
        "outputId": "5ae31459-1899-448d-d6b6-6b91e29b1a3f"
      },
      "execution_count": 35,
      "outputs": [
        {
          "output_type": "stream",
          "name": "stdout",
          "text": [
            "     order_id  total_weight_g  customer_pincode_x zone_x       awb_code  \\\n",
            "0  2001806210           220.0              140604      b  1091117221940   \n",
            "1  2001806226           480.0              723146      d  1091117222065   \n",
            "2  2001806229           500.0              421204      d  1091117222080   \n",
            "3  2001806232          1302.0              507101      d  1091117222124   \n",
            "4  2001806233           245.0              263139      b  1091117222135   \n",
            "5  2001806251           245.0              743263      d  1091117222146   \n",
            "6  2001806273           615.0              486886      d  1091117222194   \n",
            "7  2001806304           500.0              302017      b  1091117222360   \n",
            "8  2001806338           500.0              392150      d  1091117222570   \n",
            "9  2001806408          2265.0              532484      d  1091117222931   \n",
            "\n",
            "   charged_weight  warehouse_pincode  customer_pincode_courier zone_courier  \\\n",
            "0            2.92             121003                    140604            b   \n",
            "1            0.68             121003                    723146            d   \n",
            "2            0.71             121003                    421204            d   \n",
            "3            1.30             121003                    507101            d   \n",
            "4            0.78             121003                    263139            b   \n",
            "5            1.27             121003                    743263            d   \n",
            "6            1.00             121003                    486886            d   \n",
            "7            0.71             121003                    302017            d   \n",
            "8            0.70             121003                    392150            d   \n",
            "9            2.50             121003                    532484            d   \n",
            "\n",
            "  type_of_shipment  billing_amount_rs  total_weight_kg  \n",
            "0  Forward charges              174.5            0.220  \n",
            "1  Forward charges               90.2            0.480  \n",
            "2  Forward charges               90.2            0.500  \n",
            "3  Forward charges              135.0            1.302  \n",
            "4  Forward charges               61.3            0.245  \n",
            "5  Forward charges              135.0            0.245  \n",
            "6  Forward charges               90.2            0.615  \n",
            "7  Forward charges               90.2            0.500  \n",
            "8  Forward charges               90.2            0.500  \n",
            "9  Forward charges              224.6            2.265  \n",
            "<class 'pandas.core.frame.DataFrame'>\n",
            "RangeIndex: 124 entries, 0 to 123\n",
            "Data columns (total 12 columns):\n",
            " #   Column                    Non-Null Count  Dtype  \n",
            "---  ------                    --------------  -----  \n",
            " 0   order_id                  124 non-null    int64  \n",
            " 1   total_weight_g            124 non-null    float64\n",
            " 2   customer_pincode_x        124 non-null    int64  \n",
            " 3   zone_x                    124 non-null    object \n",
            " 4   awb_code                  124 non-null    int64  \n",
            " 5   charged_weight            124 non-null    float64\n",
            " 6   warehouse_pincode         124 non-null    int64  \n",
            " 7   customer_pincode_courier  124 non-null    int64  \n",
            " 8   zone_courier              124 non-null    object \n",
            " 9   type_of_shipment          124 non-null    object \n",
            " 10  billing_amount_rs         124 non-null    float64\n",
            " 11  total_weight_kg           124 non-null    float64\n",
            "dtypes: float64(4), int64(5), object(3)\n",
            "memory usage: 11.8+ KB\n",
            "None\n"
          ]
        }
      ]
    },
    {
      "cell_type": "markdown",
      "source": [
        "**4.Expected Charges Calculation**"
      ],
      "metadata": {
        "id": "gbdHigXW0nPI"
      }
    },
    {
      "cell_type": "code",
      "source": [
        "import math\n",
        "import pandas as pd\n",
        "\n",
        "# --- Step 1: Normalize Zones in both datasets ---\n",
        "rates_df['zone'] = rates_df['zone'].astype(str).str.strip().str.lower()\n",
        "final_master['zone_x'] = final_master['zone_x'].astype(str).str.strip().str.lower()\n",
        "final_master['type_of_shipment'] = final_master['type_of_shipment'].astype(str).str.strip()\n",
        "\n",
        "# --- Step 2: Expected Charge Calculation Function ---\n",
        "def calculate_expected_charge(row, rates_df):\n",
        "    zone = row['zone_x']\n",
        "    weight = row['total_weight_kg']\n",
        "    shipment_type = row.get('type_of_shipment', 'Forward')  # default Forward\n",
        "\n",
        "    # Filter rate card for this zone\n",
        "    zone_rates = rates_df[rates_df['zone'] == zone]\n",
        "    if zone_rates.empty:\n",
        "        return None\n",
        "\n",
        "    # Get the minimum slab size (e.g., 0.5 KG or 0.25 KG)\n",
        "    min_slab = zone_rates['weight_slabs'].min()\n",
        "\n",
        "    # Round weight UP to nearest slab multiple\n",
        "    slabs = math.ceil(weight / min_slab)\n",
        "    applicable_weight = slabs * min_slab\n",
        "\n",
        "    # Use the row corresponding to min slab (base charge row)\n",
        "    rate_row = zone_rates[zone_rates['weight_slabs'] == min_slab].iloc[0]\n",
        "\n",
        "    # Forward charges\n",
        "    forward_charge = (\n",
        "        rate_row['forward_fixed_charge'] +\n",
        "        (slabs - 1) * rate_row['forward_additional_weight_slab_charge']\n",
        "    )\n",
        "\n",
        "    # If shipment type includes RTO\n",
        "    if \"rto\" in shipment_type.lower():\n",
        "        rto_charge = (\n",
        "            rate_row['rto_fixed_charge'] +\n",
        "            (slabs - 1) * rate_row['rto_additional_weight_slab_charge']\n",
        "        )\n",
        "        total_charge = forward_charge + rto_charge\n",
        "    else:\n",
        "        total_charge = forward_charge\n",
        "\n",
        "    return round(total_charge, 2)\n",
        "\n",
        "# --- Step 3: Apply Calculation to all rows ---\n",
        "final_master['expected_charge'] = final_master.apply(\n",
        "    lambda x: calculate_expected_charge(x, rates_df), axis=1\n",
        ")\n",
        "\n",
        "# --- Step 4: Compute Difference (Expected - Actual) ---\n",
        "final_master['amount_diff'] = (\n",
        "    final_master['expected_charge'] - final_master['billing_amount_rs']\n",
        ")\n",
        "\n",
        "# --- Step 5: Quick Check ---\n",
        "print(\n",
        "    final_master[\n",
        "        ['order_id', 'total_weight_kg', 'zone_x', 'zone_courier',\n",
        "         'type_of_shipment', 'expected_charge', 'billing_amount_rs', 'amount_diff']\n",
        "    ].head(15)\n",
        ")\n"
      ],
      "metadata": {
        "colab": {
          "base_uri": "https://localhost:8080/"
        },
        "id": "4IDyXRGM0pxz",
        "outputId": "c544a091-8531-4cbf-870c-c5aceceed3cd"
      },
      "execution_count": 38,
      "outputs": [
        {
          "output_type": "stream",
          "name": "stdout",
          "text": [
            "      order_id  total_weight_kg zone_x zone_courier type_of_shipment  \\\n",
            "0   2001806210            0.220      b            b  Forward charges   \n",
            "1   2001806226            0.480      d            d  Forward charges   \n",
            "2   2001806229            0.500      d            d  Forward charges   \n",
            "3   2001806232            1.302      d            d  Forward charges   \n",
            "4   2001806233            0.245      b            b  Forward charges   \n",
            "5   2001806251            0.245      d            d  Forward charges   \n",
            "6   2001806273            0.615      d            d  Forward charges   \n",
            "7   2001806304            0.500      b            d  Forward charges   \n",
            "8   2001806338            0.500      d            d  Forward charges   \n",
            "9   2001806408            2.265      d            d  Forward charges   \n",
            "10  2001806446            0.500      d            d  Forward charges   \n",
            "11  2001806458            0.700      b            b  Forward charges   \n",
            "12  2001806471            1.621      b            d  Forward charges   \n",
            "13  2001806533            0.500      d            d  Forward charges   \n",
            "14  2001806547            0.127      b            b  Forward charges   \n",
            "\n",
            "    expected_charge  billing_amount_rs  amount_diff  \n",
            "0              33.0              174.5       -141.5  \n",
            "1              45.4               90.2        -44.8  \n",
            "2              45.4               90.2        -44.8  \n",
            "3              45.4              135.0        -89.6  \n",
            "4              33.0               61.3        -28.3  \n",
            "5              45.4              135.0        -89.6  \n",
            "6              45.4               90.2        -44.8  \n",
            "7              33.0               90.2        -57.2  \n",
            "8              45.4               90.2        -44.8  \n",
            "9              90.2              224.6       -134.4  \n",
            "10             45.4               90.2        -44.8  \n",
            "11             33.0               61.3        -28.3  \n",
            "12             61.3              179.8       -118.5  \n",
            "13             45.4               90.2        -44.8  \n",
            "14             33.0               61.3        -28.3  \n"
          ]
        }
      ]
    },
    {
      "cell_type": "markdown",
      "source": [
        "5. Summary Table"
      ],
      "metadata": {
        "id": "J7OoQM6F25Nt"
      }
    },
    {
      "cell_type": "code",
      "source": [
        "import math\n",
        "import pandas as pd\n",
        "\n",
        "# --- Function: Calculate expected charge based on rate card ---\n",
        "def calculate_expected_charge(row, rates_df):\n",
        "    zone = row['zone_x']   # Zone as per Company X\n",
        "    weight = row['total_weight_kg']\n",
        "    shipment_type = row.get('type_of_shipment', 'Forward charges')\n",
        "\n",
        "    # Filter rate card for this zone (case insensitive)\n",
        "    zone_rates = rates_df[rates_df['zone'].str.lower() == str(zone).lower()]\n",
        "    if zone_rates.empty or pd.isna(weight):\n",
        "        return None\n",
        "\n",
        "    # Base slab (minimum weight slab, e.g., 0.5 kg)\n",
        "    min_slab = zone_rates['weight_slabs'].min()\n",
        "\n",
        "    # Round weight UP to nearest multiple of min_slab\n",
        "    slabs = math.ceil(weight / min_slab)\n",
        "\n",
        "    # Pick base slab row\n",
        "    rate_row = zone_rates[zone_rates['weight_slabs'] == min_slab].iloc[0]\n",
        "\n",
        "    # --- Forward charges ---\n",
        "    forward_charge = (\n",
        "        rate_row['forward_fixed_charge']\n",
        "        + (slabs - 1) * rate_row['forward_additional_weight_slab_charge']\n",
        "    )\n",
        "\n",
        "    # --- RTO logic ---\n",
        "    if \"rto\" in shipment_type.lower():\n",
        "        rto_charge = (\n",
        "            rate_row['rto_fixed_charge']\n",
        "            + (slabs - 1) * rate_row['rto_additional_weight_slab_charge']\n",
        "        )\n",
        "        total_charge = forward_charge + rto_charge\n",
        "    else:\n",
        "        total_charge = forward_charge\n",
        "\n",
        "    return round(total_charge, 2)\n",
        "\n",
        "# --- Step 6: Apply expected charge calculation ---\n",
        "final_master['expected_charge'] = final_master.apply(\n",
        "    lambda x: calculate_expected_charge(x, rates_df), axis=1\n",
        ")\n",
        "\n",
        "# --- Step 7: Compute Difference ---\n",
        "final_master['amount_diff'] = (\n",
        "    final_master['expected_charge'] - final_master['billing_amount_rs']\n",
        ")\n",
        "\n",
        "# --- Step 8: Categorize Orders ---\n",
        "def categorize(diff):\n",
        "    if pd.isna(diff):\n",
        "        return \"Unknown\"\n",
        "    elif diff == 0:\n",
        "        return \"Correctly Charged\"\n",
        "    elif diff < 0:\n",
        "        return \"Overcharged\"\n",
        "    else:\n",
        "        return \"Undercharged\"\n",
        "\n",
        "final_master['charge_category'] = final_master['amount_diff'].apply(categorize)\n",
        "\n",
        "# --- Step 9: Create Summary Table ---\n",
        "summary_table = (\n",
        "    final_master.groupby('charge_category')\n",
        "    .agg(Count=('order_id', 'count'),\n",
        "         Total_Amount_Diff=('amount_diff', 'sum'))\n",
        "    .reset_index()\n",
        ")\n",
        "\n",
        "# --- Step 10: Export to Excel (with 2 sheets) ---\n",
        "with pd.ExcelWriter(\"Courier_Charge_Analysis.xlsx\", engine=\"openpyxl\") as writer:\n",
        "    final_master.to_excel(writer, sheet_name=\"Order_Level_Report\", index=False)\n",
        "    summary_table.to_excel(writer, sheet_name=\"Summary_Table\", index=False)\n",
        "\n",
        "print(\"Analysis Completed. Results exported to 'Courier_Charge_Analysis.xlsx'\")\n",
        "\n",
        "print(\"\\n--- Sample Order Level Report ---\")\n",
        "print(\n",
        "    final_master[['order_id','zone_x','zone_courier','total_weight_kg',\n",
        "                  'expected_charge','billing_amount_rs','amount_diff','charge_category']].head(10)\n",
        ")\n",
        "\n",
        "print(\"\\n--- Summary Table ---\")\n",
        "print(summary_table)\n"
      ],
      "metadata": {
        "colab": {
          "base_uri": "https://localhost:8080/"
        },
        "id": "4kWU52mT2703",
        "outputId": "cad0359b-9645-417c-ad50-e74c90eba137"
      },
      "execution_count": 41,
      "outputs": [
        {
          "output_type": "stream",
          "name": "stdout",
          "text": [
            "Analysis Completed. Results exported to 'Courier_Charge_Analysis.xlsx'\n",
            "\n",
            "--- Sample Order Level Report ---\n",
            "     order_id zone_x zone_courier  total_weight_kg  expected_charge  \\\n",
            "0  2001806210      b            b            0.220             33.0   \n",
            "1  2001806226      d            d            0.480             45.4   \n",
            "2  2001806229      d            d            0.500             45.4   \n",
            "3  2001806232      d            d            1.302             45.4   \n",
            "4  2001806233      b            b            0.245             33.0   \n",
            "5  2001806251      d            d            0.245             45.4   \n",
            "6  2001806273      d            d            0.615             45.4   \n",
            "7  2001806304      b            d            0.500             33.0   \n",
            "8  2001806338      d            d            0.500             45.4   \n",
            "9  2001806408      d            d            2.265             90.2   \n",
            "\n",
            "   billing_amount_rs  amount_diff charge_category  \n",
            "0              174.5       -141.5     Overcharged  \n",
            "1               90.2        -44.8     Overcharged  \n",
            "2               90.2        -44.8     Overcharged  \n",
            "3              135.0        -89.6     Overcharged  \n",
            "4               61.3        -28.3     Overcharged  \n",
            "5              135.0        -89.6     Overcharged  \n",
            "6               90.2        -44.8     Overcharged  \n",
            "7               90.2        -57.2     Overcharged  \n",
            "8               90.2        -44.8     Overcharged  \n",
            "9              224.6       -134.4     Overcharged  \n",
            "\n",
            "--- Summary Table ---\n",
            "     charge_category  Count  Total_Amount_Diff\n",
            "0  Correctly Charged      8                0.0\n",
            "1        Overcharged    114            -7751.2\n",
            "2       Undercharged      2               47.2\n"
          ]
        }
      ]
    },
    {
      "cell_type": "markdown",
      "source": [
        "**6.Generate Outputs**"
      ],
      "metadata": {
        "id": "FA81D4Hl4QdO"
      }
    },
    {
      "cell_type": "code",
      "source": [
        "import pandas as pd\n",
        "\n",
        "# --- Step 1: Define Order-Level Columns (only keep existing ones) ---\n",
        "order_level_cols = [\n",
        "    'order_id',\n",
        "    'total_weight_kg',\n",
        "    'zone_x',\n",
        "    'zone_courier',\n",
        "    'expected_charge',\n",
        "    'billing_amount_rs',\n",
        "    'amount_diff',\n",
        "    'charge_category'\n",
        "]\n",
        "\n",
        "# If awb_number exists in final_master, include it\n",
        "if 'awb_number' in final_master.columns:\n",
        "    order_level_cols.insert(1, 'awb_number')\n",
        "\n",
        "# --- Output 1: Order-Level Report ---\n",
        "order_level_report = final_master[order_level_cols].copy()\n",
        "\n",
        "# --- Output 2: Summary Table ---\n",
        "summary_table = (\n",
        "    final_master.groupby('charge_category')\n",
        "    .agg(Count=('order_id','count'),\n",
        "         Total_Amount_Diff=('amount_diff','sum'))\n",
        "    .reset_index()\n",
        ")\n",
        "\n",
        "# --- Export both to Excel & CSV ---\n",
        "with pd.ExcelWriter(\"Courier_Charge_Outputs.xlsx\", engine=\"openpyxl\") as writer:\n",
        "    order_level_report.to_excel(writer, sheet_name=\"Order_Level_Report\", index=False)\n",
        "    summary_table.to_excel(writer, sheet_name=\"Summary_Table\", index=False)\n",
        "\n",
        "order_level_report.to_csv(\"Order_Level_Report.csv\", index=False)\n",
        "summary_table.to_csv(\"Summary_Table.csv\", index=False)\n",
        "\n",
        "print(\"  Outputs Generated:\")\n",
        "print(\"- Courier_Charge_Outputs.xlsx (2 sheets)\")\n",
        "print(\"- Order_Level_Report.csv\")\n",
        "print(\"- Summary_Table.csv\")\n",
        "\n",
        "print(\"\\n--- Sample Order-Level Report ---\")\n",
        "print(order_level_report.head(10))\n",
        "\n",
        "print(\"\\n--- Summary Table ---\")\n",
        "print(summary_table)\n"
      ],
      "metadata": {
        "colab": {
          "base_uri": "https://localhost:8080/"
        },
        "id": "nxM7ePR24XJ6",
        "outputId": "2d5308e0-6459-44e4-88bf-18afeeba3fb3"
      },
      "execution_count": 43,
      "outputs": [
        {
          "output_type": "stream",
          "name": "stdout",
          "text": [
            "  Outputs Generated:\n",
            "- Courier_Charge_Outputs.xlsx (2 sheets)\n",
            "- Order_Level_Report.csv\n",
            "- Summary_Table.csv\n",
            "\n",
            "--- Sample Order-Level Report ---\n",
            "     order_id  total_weight_kg zone_x zone_courier  expected_charge  \\\n",
            "0  2001806210            0.220      b            b             33.0   \n",
            "1  2001806226            0.480      d            d             45.4   \n",
            "2  2001806229            0.500      d            d             45.4   \n",
            "3  2001806232            1.302      d            d             45.4   \n",
            "4  2001806233            0.245      b            b             33.0   \n",
            "5  2001806251            0.245      d            d             45.4   \n",
            "6  2001806273            0.615      d            d             45.4   \n",
            "7  2001806304            0.500      b            d             33.0   \n",
            "8  2001806338            0.500      d            d             45.4   \n",
            "9  2001806408            2.265      d            d             90.2   \n",
            "\n",
            "   billing_amount_rs  amount_diff charge_category  \n",
            "0              174.5       -141.5     Overcharged  \n",
            "1               90.2        -44.8     Overcharged  \n",
            "2               90.2        -44.8     Overcharged  \n",
            "3              135.0        -89.6     Overcharged  \n",
            "4               61.3        -28.3     Overcharged  \n",
            "5              135.0        -89.6     Overcharged  \n",
            "6               90.2        -44.8     Overcharged  \n",
            "7               90.2        -57.2     Overcharged  \n",
            "8               90.2        -44.8     Overcharged  \n",
            "9              224.6       -134.4     Overcharged  \n",
            "\n",
            "--- Summary Table ---\n",
            "     charge_category  Count  Total_Amount_Diff\n",
            "0  Correctly Charged      8                0.0\n",
            "1        Overcharged    114            -7751.2\n",
            "2       Undercharged      2               47.2\n"
          ]
        }
      ]
    },
    {
      "cell_type": "markdown",
      "source": [
        "**7. Exploratory Data Analysis **"
      ],
      "metadata": {
        "id": "3nHbUuU1xFSg"
      }
    },
    {
      "cell_type": "code",
      "source": [
        "import matplotlib.pyplot as plt\n",
        "import seaborn as sns\n",
        "\n",
        "# --- Correlation Heatmap ---\n",
        "plt.figure(figsize=(8,6))\n",
        "numeric_cols = ['total_weight_kg', 'expected_charge', 'billing_amount_rs', 'amount_diff']\n",
        "corr = final_master[numeric_cols].corr()\n",
        "sns.heatmap(corr, annot=True, cmap=\"coolwarm\", fmt=\".2f\")\n",
        "plt.title(\"Correlation Heatmap\")\n",
        "plt.show()"
      ],
      "metadata": {
        "colab": {
          "base_uri": "https://localhost:8080/",
          "height": 468
        },
        "id": "fnJJcK6qqaaJ",
        "outputId": "33abe4dc-ec49-4c09-8a91-dc37a8ae8dfd"
      },
      "execution_count": 44,
      "outputs": [
        {
          "output_type": "display_data",
          "data": {
            "text/plain": [
              "<Figure size 800x600 with 2 Axes>"
            ],
            "image/png": "[encoded data removed]"
          },
          "metadata": {}
        }
      ]
    },
    {
      "cell_type": "code",
      "source": [
        "# --- Scatter Plot: Weight vs Billed Charges ---\n",
        "plt.figure(figsize=(8,6))\n",
        "sns.scatterplot(data=final_master, x='total_weight_kg', y='billing_amount_rs',\n",
        "                hue='charge_category', alpha=0.7)\n",
        "plt.title(\"Weight vs Billed Charges\")\n",
        "plt.xlabel(\"Total Weight (kg)\")\n",
        "plt.ylabel(\"Billed Charges (₹)\")\n",
        "plt.show()"
      ],
      "metadata": {
        "colab": {
          "base_uri": "https://localhost:8080/",
          "height": 524
        },
        "id": "74M8PkGzqqoX",
        "outputId": "46f1b5cb-5469-4631-ddcd-f27b6551c5ae"
      },
      "execution_count": 45,
      "outputs": [
        {
          "output_type": "display_data",
          "data": {
            "text/plain": [
              "<Figure size 800x600 with 1 Axes>"
            ],
            "image/png": "[encoded data removed]"
          },
          "metadata": {}
        }
      ]
    },
    {
      "cell_type": "code",
      "source": [
        "# --- Distribution of Amount Difference (Overcharge/Undercharge) ---\n",
        "plt.figure(figsize=(8,6))\n",
        "sns.histplot(final_master['amount_diff'], kde=True, bins=30, color=\"orange\")\n",
        "plt.axvline(0, color=\"red\", linestyle=\"--\")\n",
        "plt.title(\"Distribution of Charge Difference (Expected - Billed)\")\n",
        "plt.xlabel(\"Amount Difference (₹)\")\n",
        "plt.ylabel(\"Frequency\")\n",
        "plt.show()"
      ],
      "metadata": {
        "colab": {
          "base_uri": "https://localhost:8080/",
          "height": 531
        },
        "id": "cSKr23MJqyeI",
        "outputId": "4f51daf6-8b4f-47a7-99ad-d6ba68c8d7eb"
      },
      "execution_count": 46,
      "outputs": [
        {
          "output_type": "display_data",
          "data": {
            "text/plain": [
              "<Figure size 800x600 with 1 Axes>"
            ],
            "image/png": "[encoded data removed]"
          },
          "metadata": {}
        }
      ]
    },
    {
      "cell_type": "code",
      "source": [
        "# --- Countplot: Overcharged vs Correct vs Undercharged ---\n",
        "plt.figure(figsize=(6,5))\n",
        "sns.countplot(data=final_master, x='charge_category', palette=\"Set2\")\n",
        "plt.title(\"Order Category Distribution\")\n",
        "plt.xlabel(\"Charge Category\")\n",
        "plt.ylabel(\"Count of Orders\")\n",
        "plt.show()"
      ],
      "metadata": {
        "colab": {
          "base_uri": "https://localhost:8080/",
          "height": 598
        },
        "id": "px9HO-Ofq2fi",
        "outputId": "c2c0a2b2-9420-41ff-eb9d-32e87c329ff6"
      },
      "execution_count": 47,
      "outputs": [
        {
          "output_type": "stream",
          "name": "stderr",
          "text": [
            "/tmp/ipython-input-4087558837.py:3: FutureWarning: \n",
            "\n",
            "Passing `palette` without assigning `hue` is deprecated and will be removed in v0.14.0. Assign the `x` variable to `hue` and set `legend=False` for the same effect.\n",
            "\n",
            "  sns.countplot(data=final_master, x='charge_category', palette=\"Set2\")\n"
          ]
        },
        {
          "output_type": "display_data",
          "data": {
            "text/plain": [
              "<Figure size 600x500 with 1 Axes>"
            ],
            "image/png": "[encoded data removed]"
          },
          "metadata": {}
        }
      ]
    },
    {
      "cell_type": "code",
      "source": [
        "# --- Boxplot: Charges by Zone ---\n",
        "plt.figure(figsize=(10,6))\n",
        "sns.boxplot(data=final_master, x='zone_x', y='billing_amount_rs')\n",
        "plt.title(\"Billing Charges Distribution by Zone\")\n",
        "plt.xlabel(\"Zone (as per X)\")\n",
        "plt.ylabel(\"Billed Charges (₹)\")\n",
        "plt.show()"
      ],
      "metadata": {
        "colab": {
          "base_uri": "https://localhost:8080/",
          "height": 432
        },
        "id": "hB6Oy2N_rGmx",
        "outputId": "05e604d0-111b-430a-dd6d-56f79a492da9"
      },
      "execution_count": 48,
      "outputs": [
        {
          "output_type": "display_data",
          "data": {
            "text/plain": [
              "<Figure size 1000x600 with 1 Axes>"
            ],
            "image/png": "[encoded data removed]"
          },
          "metadata": {}
        }
      ]
    },
    {
      "cell_type": "markdown",
      "source": [
        "**8.Machine Learning**"
      ],
      "metadata": {
        "id": "9ElvSZ0j5xJe"
      }
    },
    {
      "cell_type": "markdown",
      "source": [
        "Anomaly Detection"
      ],
      "metadata": {
        "id": "UJ0Z-Lkg6Ana"
      }
    },
    {
      "cell_type": "code",
      "source": [
        "from sklearn.ensemble import IsolationForest\n",
        "\n",
        "# Train Isolation Forest on amount_diff\n",
        "iso = IsolationForest(contamination=0.05, random_state=42)\n",
        "final_master['anomaly_flag'] = iso.fit_predict(final_master[['amount_diff']])\n",
        "\n",
        "# Map flags (-1 = anomaly, 1 = normal)\n",
        "final_master['anomaly_flag'] = final_master['anomaly_flag'].map({1: \"Normal\", -1: \"Suspicious\"})\n",
        "\n",
        "# Quick check\n",
        "print(final_master[['order_id', 'amount_diff', 'anomaly_flag']].head(10))\n"
      ],
      "metadata": {
        "colab": {
          "base_uri": "https://localhost:8080/"
        },
        "id": "ZSOB_rOa52q4",
        "outputId": "df7738b2-e9ac-4afc-e073-6a0e00a67c72"
      },
      "execution_count": 49,
      "outputs": [
        {
          "output_type": "stream",
          "name": "stdout",
          "text": [
            "     order_id  amount_diff anomaly_flag\n",
            "0  2001806210       -141.5       Normal\n",
            "1  2001806226        -44.8       Normal\n",
            "2  2001806229        -44.8       Normal\n",
            "3  2001806232        -89.6       Normal\n",
            "4  2001806233        -28.3       Normal\n",
            "5  2001806251        -89.6       Normal\n",
            "6  2001806273        -44.8       Normal\n",
            "7  2001806304        -57.2       Normal\n",
            "8  2001806338        -44.8       Normal\n",
            "9  2001806408       -134.4       Normal\n"
          ]
        }
      ]
    },
    {
      "cell_type": "markdown",
      "source": [
        "Regression Model – Predict Charges"
      ],
      "metadata": {
        "id": "_FBiB3JC6CEZ"
      }
    },
    {
      "cell_type": "code",
      "source": [
        "from sklearn.model_selection import train_test_split\n",
        "from sklearn.linear_model import LinearRegression\n",
        "from sklearn.preprocessing import OneHotEncoder\n",
        "from sklearn.compose import ColumnTransformer\n",
        "from sklearn.pipeline import Pipeline\n",
        "\n",
        "# Features and target\n",
        "X = final_master[['total_weight_kg', 'zone_x', 'type_of_shipment']]\n",
        "y = final_master['billing_amount_rs']\n",
        "\n",
        "# Preprocess categorical columns\n",
        "preprocessor = ColumnTransformer(\n",
        "    transformers=[('cat', OneHotEncoder(handle_unknown='ignore'), ['zone_x','type_of_shipment'])],\n",
        "    remainder='passthrough'\n",
        ")\n",
        "\n",
        "# Regression pipeline\n",
        "reg_model = Pipeline([\n",
        "    ('preprocessor', preprocessor),\n",
        "    ('regressor', LinearRegression())\n",
        "])\n",
        "\n",
        "# Train-test split\n",
        "X_train, X_test, y_train, y_test = train_test_split(X, y, test_size=0.2, random_state=42)\n",
        "\n",
        "reg_model.fit(X_train, y_train)\n",
        "print(\"R² Score:\", reg_model.score(X_test, y_test))\n"
      ],
      "metadata": {
        "colab": {
          "base_uri": "https://localhost:8080/"
        },
        "id": "JwPhx3w958Ep",
        "outputId": "9400e4a0-39e5-40e5-882a-99f413b30028"
      },
      "execution_count": 50,
      "outputs": [
        {
          "output_type": "stream",
          "name": "stdout",
          "text": [
            "R² Score: 0.6209605975447337\n"
          ]
        }
      ]
    },
    {
      "cell_type": "markdown",
      "source": [
        "Classification – Predict Overcharged/Correct/Undercharged"
      ],
      "metadata": {
        "id": "4wDElhue6Gbi"
      }
    },
    {
      "cell_type": "code",
      "source": [
        "from sklearn.ensemble import RandomForestClassifier\n",
        "from sklearn.metrics import classification_report\n",
        "\n",
        "# Features & target\n",
        "X = final_master[['total_weight_kg', 'zone_x', 'type_of_shipment']]\n",
        "y = final_master['charge_category']\n",
        "\n",
        "# Preprocess categories\n",
        "clf_preprocessor = ColumnTransformer(\n",
        "    transformers=[('cat', OneHotEncoder(handle_unknown='ignore'), ['zone_x','type_of_shipment'])],\n",
        "    remainder='passthrough'\n",
        ")\n",
        "\n",
        "# Random Forest Classifier\n",
        "clf_model = Pipeline([\n",
        "    ('preprocessor', clf_preprocessor),\n",
        "    ('classifier', RandomForestClassifier(n_estimators=100, random_state=42))\n",
        "])\n",
        "\n",
        "# Train-test split\n",
        "X_train, X_test, y_train, y_test = train_test_split(X, y, test_size=0.2, random_state=42)\n",
        "\n",
        "clf_model.fit(X_train, y_train)\n",
        "y_pred = clf_model.predict(X_test)\n",
        "\n",
        "print(classification_report(y_test, y_pred))\n"
      ],
      "metadata": {
        "colab": {
          "base_uri": "https://localhost:8080/"
        },
        "id": "3g0Gr64l6JP1",
        "outputId": "b33aeaf6-e014-4acd-cee0-9fcaaea35719"
      },
      "execution_count": 51,
      "outputs": [
        {
          "output_type": "stream",
          "name": "stdout",
          "text": [
            "                   precision    recall  f1-score   support\n",
            "\n",
            "Correctly Charged       1.00      1.00      1.00         2\n",
            "      Overcharged       1.00      1.00      1.00        23\n",
            "\n",
            "         accuracy                           1.00        25\n",
            "        macro avg       1.00      1.00      1.00        25\n",
            "     weighted avg       1.00      1.00      1.00        25\n",
            "\n"
          ]
        }
      ]
    },
    {
      "cell_type": "markdown",
      "source": [
        "Save trained model"
      ],
      "metadata": {
        "id": "8Jed2g_A6uRu"
      }
    },
    {
      "cell_type": "code",
      "source": [
        "import pickle\n",
        "\n",
        "# Assume your model is trained as clf_model\n",
        "with open(\"charge_predictor.pkl\", \"wb\") as f:\n",
        "    pickle.dump(clf_model, f)"
      ],
      "metadata": {
        "id": "Bd7hZe_e6wXU"
      },
      "execution_count": 52,
      "outputs": []
    }
  ]
}